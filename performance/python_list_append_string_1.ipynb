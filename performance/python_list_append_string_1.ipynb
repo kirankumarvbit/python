{
 "cells": [
  {
   "cell_type": "markdown",
   "metadata": {},
   "source": [
    "# Compare functions using timeit"
   ]
  },
  {
   "cell_type": "markdown",
   "metadata": {},
   "source": [
    "Compare the performance of different functions to append custom string to items in a list."
   ]
  },
  {
   "cell_type": "code",
   "execution_count": 1,
   "metadata": {},
   "outputs": [],
   "source": [
    "# performance checks\n",
    "# timeit results \n",
    "# matlib plots\n",
    "# refer https://stackoverflow.com/questions/50312305/what-is-the-best-way-to-interleave-two-lists\n",
    "# input l=['a','b','c'] \n",
    "# output out_l = ['a','a_1','b','b_2','c','c_3']"
   ]
  },
  {
   "cell_type": "code",
   "execution_count": 2,
   "metadata": {},
   "outputs": [],
   "source": [
    "# import libraries\n",
    "from timeit import timeit\n",
    "from itertools import chain\n",
    "import tkinter\n",
    "import pandas as pd\n",
    "import matplotlib.pyplot as plt"
   ]
  },
  {
   "cell_type": "code",
   "execution_count": 3,
   "metadata": {},
   "outputs": [],
   "source": [
    "%matplotlib inline"
   ]
  },
  {
   "cell_type": "code",
   "execution_count": 4,
   "metadata": {},
   "outputs": [],
   "source": [
    "# function 1 \n",
    "def fun1(l):\n",
    "    return [ \n",
    "        l[int(i / 2)] + \"_\" + str(int(i / 2) + 1) if i % 2 != 0 else l[int(i/2)] \n",
    "        for i in range(0,2*len(l))\n",
    "    ]"
   ]
  },
  {
   "cell_type": "code",
   "execution_count": 5,
   "metadata": {},
   "outputs": [],
   "source": [
    "# function 2\n",
    "def fun2(l):\n",
    "    return [\n",
    "        i for b in [[a, '{}_{}'.format(a, i)] \n",
    "        for i, a in enumerate(l, start=1)] \n",
    "        for i in b\n",
    "    ]"
   ]
  },
  {
   "cell_type": "code",
   "execution_count": 6,
   "metadata": {},
   "outputs": [],
   "source": [
    "# function 3\n",
    "def fun3(l):\n",
    "    return [j for i, a in enumerate(l, 1) for j in [a, '{}_{}'.format(a, i)]]"
   ]
  },
  {
   "cell_type": "code",
   "execution_count": 7,
   "metadata": {},
   "outputs": [],
   "source": [
    "# function 4\n",
    "def fun4(l):\n",
    "    return [\n",
    "        val \n",
    "        for pair in zip(l, [f'{k}_{j+1}' for j, k in enumerate(l)]) \n",
    "        for val in pair\n",
    "    ]"
   ]
  },
  {
   "cell_type": "code",
   "execution_count": 8,
   "metadata": {},
   "outputs": [],
   "source": [
    "# function 5\n",
    "def fun5(l):\n",
    "    def _cs1(l):\n",
    "        for i, x in enumerate(l, 1):\n",
    "            yield x\n",
    "            yield f'{x}_{i}'\n",
    "    return list(_cs1(l))"
   ]
  },
  {
   "cell_type": "code",
   "execution_count": 9,
   "metadata": {},
   "outputs": [],
   "source": [
    "# function 6\n",
    "def fun6(l):\n",
    "    return list(chain.from_iterable(\n",
    "        zip(l, [f'{x}_{i}' for i, x in enumerate(l, 1)]))\n",
    "    )"
   ]
  },
  {
   "cell_type": "code",
   "execution_count": 10,
   "metadata": {},
   "outputs": [],
   "source": [
    "# function 7\n",
    "def fun7(l):\n",
    "    out_l = [None] * (len(l) * 2)\n",
    "    out_l[::2] = l\n",
    "    out_l[1::2] = [f'{x}_{i}' for i, x in enumerate(l, 1)]\n",
    "    return out_l"
   ]
  },
  {
   "cell_type": "code",
   "execution_count": 11,
   "metadata": {},
   "outputs": [],
   "source": [
    "# create a pandas dataframe \n",
    "# index has the list of functions\n",
    "# columns has the multiplication factor - \n",
    "# to increase input list size (thereby complexity)\n",
    "res = pd.DataFrame(\n",
    "       index=['fun1', 'fun2', 'fun3', 'fun4', 'fun5', 'fun6', 'fun7'],\n",
    "       columns=[10, 50, 100, 500, 1000, 5000], # 10000, 50000, 100000], # uncomment to test larger lists\n",
    "       dtype=float\n",
    ")"
   ]
  },
  {
   "cell_type": "code",
   "execution_count": 12,
   "metadata": {},
   "outputs": [
    {
     "data": {
      "text/html": [
       "<div>\n",
       "<style scoped>\n",
       "    .dataframe tbody tr th:only-of-type {\n",
       "        vertical-align: middle;\n",
       "    }\n",
       "\n",
       "    .dataframe tbody tr th {\n",
       "        vertical-align: top;\n",
       "    }\n",
       "\n",
       "    .dataframe thead th {\n",
       "        text-align: right;\n",
       "    }\n",
       "</style>\n",
       "<table border=\"1\" class=\"dataframe\">\n",
       "  <thead>\n",
       "    <tr style=\"text-align: right;\">\n",
       "      <th></th>\n",
       "      <th>10</th>\n",
       "      <th>50</th>\n",
       "      <th>100</th>\n",
       "      <th>500</th>\n",
       "      <th>1000</th>\n",
       "      <th>5000</th>\n",
       "    </tr>\n",
       "  </thead>\n",
       "  <tbody>\n",
       "    <tr>\n",
       "      <th>fun1</th>\n",
       "      <td>NaN</td>\n",
       "      <td>NaN</td>\n",
       "      <td>NaN</td>\n",
       "      <td>NaN</td>\n",
       "      <td>NaN</td>\n",
       "      <td>NaN</td>\n",
       "    </tr>\n",
       "    <tr>\n",
       "      <th>fun2</th>\n",
       "      <td>NaN</td>\n",
       "      <td>NaN</td>\n",
       "      <td>NaN</td>\n",
       "      <td>NaN</td>\n",
       "      <td>NaN</td>\n",
       "      <td>NaN</td>\n",
       "    </tr>\n",
       "    <tr>\n",
       "      <th>fun3</th>\n",
       "      <td>NaN</td>\n",
       "      <td>NaN</td>\n",
       "      <td>NaN</td>\n",
       "      <td>NaN</td>\n",
       "      <td>NaN</td>\n",
       "      <td>NaN</td>\n",
       "    </tr>\n",
       "    <tr>\n",
       "      <th>fun4</th>\n",
       "      <td>NaN</td>\n",
       "      <td>NaN</td>\n",
       "      <td>NaN</td>\n",
       "      <td>NaN</td>\n",
       "      <td>NaN</td>\n",
       "      <td>NaN</td>\n",
       "    </tr>\n",
       "    <tr>\n",
       "      <th>fun5</th>\n",
       "      <td>NaN</td>\n",
       "      <td>NaN</td>\n",
       "      <td>NaN</td>\n",
       "      <td>NaN</td>\n",
       "      <td>NaN</td>\n",
       "      <td>NaN</td>\n",
       "    </tr>\n",
       "    <tr>\n",
       "      <th>fun6</th>\n",
       "      <td>NaN</td>\n",
       "      <td>NaN</td>\n",
       "      <td>NaN</td>\n",
       "      <td>NaN</td>\n",
       "      <td>NaN</td>\n",
       "      <td>NaN</td>\n",
       "    </tr>\n",
       "    <tr>\n",
       "      <th>fun7</th>\n",
       "      <td>NaN</td>\n",
       "      <td>NaN</td>\n",
       "      <td>NaN</td>\n",
       "      <td>NaN</td>\n",
       "      <td>NaN</td>\n",
       "      <td>NaN</td>\n",
       "    </tr>\n",
       "  </tbody>\n",
       "</table>\n",
       "</div>"
      ],
      "text/plain": [
       "      10    50    100   500   1000  5000\n",
       "fun1   NaN   NaN   NaN   NaN   NaN   NaN\n",
       "fun2   NaN   NaN   NaN   NaN   NaN   NaN\n",
       "fun3   NaN   NaN   NaN   NaN   NaN   NaN\n",
       "fun4   NaN   NaN   NaN   NaN   NaN   NaN\n",
       "fun5   NaN   NaN   NaN   NaN   NaN   NaN\n",
       "fun6   NaN   NaN   NaN   NaN   NaN   NaN\n",
       "fun7   NaN   NaN   NaN   NaN   NaN   NaN"
      ]
     },
     "execution_count": 12,
     "metadata": {},
     "output_type": "execute_result"
    }
   ],
   "source": [
    "res"
   ]
  },
  {
   "cell_type": "code",
   "execution_count": 13,
   "metadata": {},
   "outputs": [],
   "source": [
    "# each function to be looped over the mul.factors\n",
    "# timeit is used and output to dataframe\n",
    "for f in res.index: \n",
    "    for c in res.columns:\n",
    "        l = ['a', 'b', 'c', 'd'] * c\n",
    "        stmt = '{}(l)'.format(f)       # f(l)\n",
    "        setp = 'from __main__ import l, {}'.format(f)\n",
    "        res.at[f, c] = timeit(stmt, setp, number=50)"
   ]
  },
  {
   "cell_type": "code",
   "execution_count": 14,
   "metadata": {},
   "outputs": [
    {
     "data": {
      "text/html": [
       "<div>\n",
       "<style scoped>\n",
       "    .dataframe tbody tr th:only-of-type {\n",
       "        vertical-align: middle;\n",
       "    }\n",
       "\n",
       "    .dataframe tbody tr th {\n",
       "        vertical-align: top;\n",
       "    }\n",
       "\n",
       "    .dataframe thead th {\n",
       "        text-align: right;\n",
       "    }\n",
       "</style>\n",
       "<table border=\"1\" class=\"dataframe\">\n",
       "  <thead>\n",
       "    <tr style=\"text-align: right;\">\n",
       "      <th></th>\n",
       "      <th>10</th>\n",
       "      <th>50</th>\n",
       "      <th>100</th>\n",
       "      <th>500</th>\n",
       "      <th>1000</th>\n",
       "      <th>5000</th>\n",
       "    </tr>\n",
       "  </thead>\n",
       "  <tbody>\n",
       "    <tr>\n",
       "      <th>fun1</th>\n",
       "      <td>0.003351</td>\n",
       "      <td>0.018561</td>\n",
       "      <td>0.029885</td>\n",
       "      <td>0.130170</td>\n",
       "      <td>0.263923</td>\n",
       "      <td>1.288632</td>\n",
       "    </tr>\n",
       "    <tr>\n",
       "      <th>fun2</th>\n",
       "      <td>0.001179</td>\n",
       "      <td>0.005826</td>\n",
       "      <td>0.011566</td>\n",
       "      <td>0.058041</td>\n",
       "      <td>0.116260</td>\n",
       "      <td>0.626511</td>\n",
       "    </tr>\n",
       "    <tr>\n",
       "      <th>fun3</th>\n",
       "      <td>0.001086</td>\n",
       "      <td>0.005334</td>\n",
       "      <td>0.010573</td>\n",
       "      <td>0.053296</td>\n",
       "      <td>0.104974</td>\n",
       "      <td>0.544260</td>\n",
       "    </tr>\n",
       "    <tr>\n",
       "      <th>fun4</th>\n",
       "      <td>0.000832</td>\n",
       "      <td>0.004125</td>\n",
       "      <td>0.008007</td>\n",
       "      <td>0.039994</td>\n",
       "      <td>0.079164</td>\n",
       "      <td>0.412970</td>\n",
       "    </tr>\n",
       "    <tr>\n",
       "      <th>fun5</th>\n",
       "      <td>0.000723</td>\n",
       "      <td>0.003319</td>\n",
       "      <td>0.006584</td>\n",
       "      <td>0.032964</td>\n",
       "      <td>0.065645</td>\n",
       "      <td>0.349821</td>\n",
       "    </tr>\n",
       "    <tr>\n",
       "      <th>fun6</th>\n",
       "      <td>0.000648</td>\n",
       "      <td>0.003194</td>\n",
       "      <td>0.006422</td>\n",
       "      <td>0.030469</td>\n",
       "      <td>0.062949</td>\n",
       "      <td>0.323278</td>\n",
       "    </tr>\n",
       "    <tr>\n",
       "      <th>fun7</th>\n",
       "      <td>0.000549</td>\n",
       "      <td>0.002699</td>\n",
       "      <td>0.005125</td>\n",
       "      <td>0.026020</td>\n",
       "      <td>0.052308</td>\n",
       "      <td>0.281226</td>\n",
       "    </tr>\n",
       "  </tbody>\n",
       "</table>\n",
       "</div>"
      ],
      "text/plain": [
       "          10        50        100       500       1000      5000\n",
       "fun1  0.003351  0.018561  0.029885  0.130170  0.263923  1.288632\n",
       "fun2  0.001179  0.005826  0.011566  0.058041  0.116260  0.626511\n",
       "fun3  0.001086  0.005334  0.010573  0.053296  0.104974  0.544260\n",
       "fun4  0.000832  0.004125  0.008007  0.039994  0.079164  0.412970\n",
       "fun5  0.000723  0.003319  0.006584  0.032964  0.065645  0.349821\n",
       "fun6  0.000648  0.003194  0.006422  0.030469  0.062949  0.323278\n",
       "fun7  0.000549  0.002699  0.005125  0.026020  0.052308  0.281226"
      ]
     },
     "execution_count": 14,
     "metadata": {},
     "output_type": "execute_result"
    }
   ],
   "source": [
    "res"
   ]
  },
  {
   "cell_type": "code",
   "execution_count": 15,
   "metadata": {},
   "outputs": [
    {
     "data": {
      "image/png": "[encoded data removed]",
      "text/plain": [
       "<matplotlib.figure.Figure at 0x2371ca959e8>"
      ]
     },
     "metadata": {},
     "output_type": "display_data"
    }
   ],
   "source": [
    "# using matplotlib to plot \n",
    "ax = res.div(res.min()).T.plot(loglog=True) \n",
    "ax.set_xlabel(\"N\"); \n",
    "ax.set_ylabel(\"time (relative)\");"
   ]
  },
  {
   "cell_type": "code",
   "execution_count": 17,
   "metadata": {},
   "outputs": [],
   "source": [
    "# plt.show()"
   ]
  },
  {
   "cell_type": "code",
   "execution_count": null,
   "metadata": {},
   "outputs": [],
   "source": []
  }
 ],
 "metadata": {
  "kernelspec": {
   "display_name": "Python 3",
   "language": "python",
   "name": "python3"
  },
  "language_info": {
   "codemirror_mode": {
    "name": "ipython",
    "version": 3
   },
   "file_extension": ".py",
   "mimetype": "text/x-python",
   "name": "python",
   "nbconvert_exporter": "python",
   "pygments_lexer": "ipython3",
   "version": "3.6.4"
  }
 },
 "nbformat": 4,
 "nbformat_minor": 2
}
