{
 "cells": [
  {
   "cell_type": "markdown",
   "metadata": {},
   "source": [
    "# Performance comparison for list subtraction"
   ]
  },
  {
   "cell_type": "markdown",
   "metadata": {},
   "source": [
    "Subtract items in a list backwards. The subtraction should go like this: <br/>\n",
    "index 1 - index 0, index 2 - index 1, and so on and so forth."
   ]
  },
  {
   "cell_type": "code",
   "execution_count": 1,
   "metadata": {},
   "outputs": [],
   "source": [
    "# refer https://stackoverflow.com/questions/50940549/how-to-subtract-backwards-in-a-list-in-python-3#50940755"
   ]
  },
  {
   "cell_type": "code",
   "execution_count": 2,
   "metadata": {},
   "outputs": [],
   "source": [
    "# import libraries\n",
    "import operator\n",
    "from itertools import islice\n",
    "from timeit import timeit\n",
    "from itertools import chain\n",
    "import tkinter\n",
    "import pandas as pd\n",
    "import matplotlib.pyplot as plt"
   ]
  },
  {
   "cell_type": "code",
   "execution_count": 3,
   "metadata": {},
   "outputs": [],
   "source": [
    "%matplotlib inline"
   ]
  },
  {
   "cell_type": "code",
   "execution_count": 4,
   "metadata": {},
   "outputs": [],
   "source": [
    "# function 1 \n",
    "def fun1(l):\n",
    "    return [map(operator.sub, islice(l, 1, None), l)]"
   ]
  },
  {
   "cell_type": "code",
   "execution_count": 5,
   "metadata": {},
   "outputs": [],
   "source": [
    "# function 2\n",
    "def fun2(l):\n",
    "    return [i - j for i, j in zip(l[1:], l)]"
   ]
  },
  {
   "cell_type": "code",
   "execution_count": 6,
   "metadata": {},
   "outputs": [],
   "source": [
    "# function 3\n",
    "def fun3(l):\n",
    "    for i in range(len(l)-1,1,-1):\n",
    "        l[i] = l[i]-l[i-1]\n",
    "    return l[i]"
   ]
  },
  {
   "cell_type": "code",
   "execution_count": 7,
   "metadata": {},
   "outputs": [],
   "source": [
    "# function 4\n",
    "def fun4(l):\n",
    "    return [l[i+1]- l[i] for i in range(len(l)-1)]"
   ]
  },
  {
   "cell_type": "code",
   "execution_count": 8,
   "metadata": {},
   "outputs": [],
   "source": [
    "# function 5\n",
    "def fun5(l):\n",
    "    return [(l[i+1] - l[i]) for i in range(len(l)-1)]"
   ]
  },
  {
   "cell_type": "code",
   "execution_count": 9,
   "metadata": {},
   "outputs": [],
   "source": [
    "# create a pandas dataframe \n",
    "# index has the list of functions\n",
    "# columns has the multiplication factor - \n",
    "# to increase input list size (thereby complexity)\n",
    "res = pd.DataFrame(\n",
    "       index=['fun1', 'fun2', 'fun3', 'fun4', 'fun5',],\n",
    "       columns=[10, 50, 100, 500, 1000, 5000, 10000], # 50000, 100000],\n",
    "       dtype=float\n",
    ")"
   ]
  },
  {
   "cell_type": "code",
   "execution_count": 10,
   "metadata": {},
   "outputs": [],
   "source": [
    "# each function to be looped over the mul.factors\n",
    "# timeit is used and output to dataframe\n",
    "for f in res.index: \n",
    "    for c in res.columns:\n",
    "        l = [1,2,3,4,5,6,7,8,9,10] * c\n",
    "        stmt = '{}(l)'.format(f)       # f(l)\n",
    "        setp = 'from __main__ import l, {}'.format(f)\n",
    "        res.at[f, c] = timeit(stmt, setp, number=50)"
   ]
  },
  {
   "cell_type": "code",
   "execution_count": 11,
   "metadata": {},
   "outputs": [
    {
     "name": "stderr",
     "output_type": "stream",
     "text": [
      "E:\\Python\\Anaconda\\lib\\site-packages\\matplotlib\\axes\\_base.py:3285: UserWarning: Attempting to set identical bottom==top results\n",
      "in singular transformations; automatically expanding.\n",
      "bottom=1.0, top=1.0\n",
      "  'bottom=%s, top=%s') % (bottom, top))\n"
     ]
    },
    {
     "data": {
      "image/png": "[encoded data removed]",
      "text/plain": [
       "<matplotlib.figure.Figure at 0x1c7b469f9b0>"
      ]
     },
     "metadata": {},
     "output_type": "display_data"
    }
   ],
   "source": [
    "# using matplotlib to plot \n",
    "ax = res.div(res.min()).T.plot(loglog=True) \n",
    "ax.set_xlabel(\"N\"); \n",
    "ax.set_ylabel(\"time (relative)\");"
   ]
  },
  {
   "cell_type": "code",
   "execution_count": 12,
   "metadata": {},
   "outputs": [],
   "source": [
    "# plt.show()"
   ]
  }
 ],
 "metadata": {
  "kernelspec": {
   "display_name": "Python 3",
   "language": "python",
   "name": "python3"
  },
  "language_info": {
   "codemirror_mode": {
    "name": "ipython",
    "version": 3
   },
   "file_extension": ".py",
   "mimetype": "text/x-python",
   "name": "python",
   "nbconvert_exporter": "python",
   "pygments_lexer": "ipython3",
   "version": "3.6.4"
  }
 },
 "nbformat": 4,
 "nbformat_minor": 2
}
